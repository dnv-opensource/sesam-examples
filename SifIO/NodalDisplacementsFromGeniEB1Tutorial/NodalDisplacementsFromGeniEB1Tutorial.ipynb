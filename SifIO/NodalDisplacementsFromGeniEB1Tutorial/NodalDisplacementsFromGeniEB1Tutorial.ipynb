{
 "cells": [
  {
   "cell_type": "markdown",
   "metadata": {},
   "source": [
    "# Example for displaying nodal displacements from GeniE B1 Tutorial"
   ]
  },
  {
   "cell_type": "markdown",
   "metadata": {},
   "source": [
    "## Introduction\n",
    "This example demonstrates how SifIO can be used through Python to print the nodal dispacements for a given node in a table. A Sesam Manager example model is provided where we run Sestra to create a SIN and a SIF file\n",
    "Firstly, you need to run Sestra analysis as usual and get the result file, then you can use SifIO Python package to get the data in the result file for further post-processing in Python.  The procedure is explained below."
   ]
  },
  {
   "cell_type": "markdown",
   "metadata": {},
   "source": [
    "### Model\n",
    "Below is the nodal displacements of the node 13 in LC 1 when viewed with Xtract:\n",
    "<div>\n",
    "<img src=\"model.png\" width=\"900\"/>\n",
    "</div>\n"
   ]
  },
  {
   "cell_type": "markdown",
   "metadata": {},
   "source": [
    "## Prerequisities "
   ]
  },
  {
   "cell_type": "markdown",
   "metadata": {},
   "source": [
    "### Install SifIO\n",
    "The below installation step is needed to install the SifIO Python package."
   ]
  },
  {
   "cell_type": "code",
   "execution_count": null,
   "metadata": {},
   "outputs": [],
   "source": [
    "!pip install -r sifio-requirements.txt"
   ]
  },
  {
   "cell_type": "markdown",
   "metadata": {},
   "source": [
    "## Workflow\n",
    "Firstly, you need to run Sestra analysis as usual and get the result file, then you can use SifIO Python package to get the data in the result file for further post-processing in Python. A simple SifIO Python code example shows how to use SifIO to read the nodal displacement data (RVNODDIS) of a FE node ‘13’ in a result case ‘LC 1’ from an R1.SIN file (from GeniE B1)."
   ]
  },
  {
   "cell_type": "markdown",
   "metadata": {},
   "source": [
    "### Sesam Manager\n",
    "A Sesam Manager example is provided. The workflow sketched below will run Sestra twice to create a SIN file and SIF file (During debugging it is better to use SIF format as it is in ASCII format and therefore human-readable)\n",
    "<div>\n",
    "<img src=\"sesamManager.png\" width=\"300\"/>\n",
    "</div>\n",
    "Sesam Manager is run from the code block below. (Use the play button to run it)"
   ]
  },
  {
   "cell_type": "code",
   "execution_count": 6,
   "metadata": {},
   "outputs": [
    {
     "name": "stdout",
     "output_type": "stream",
     "text": [
      "Sesam Workspace repository path: C:\\DNV\\Workspaces\\SM_SestraRun\\_repository\n",
      "Files produced from Sesam Manager workflow:['R1.SIF', 'R1.SIN', 'T1.FEM']\n",
      "Copied SIN file: .\\R1.SIN\n"
     ]
    }
   ],
   "source": [
    "import subprocess,os,shutil\n",
    "sesam_manager_path = r\"C:\\Program Files (x86)\\DNV\\Sesam Manager V6.7-00\\Bin\\DNVS.Sesam.Manager.Win.exe\"\n",
    "dnv_working_directory = \"C:\\\\DNV\\\\Workspaces\\\\\"\n",
    "manager_example_name = \"SM_SestraRun\"\n",
    "os.chdir(\"SesamManagerModel\")\n",
    "command = [sesam_manager_path,  manager_example_name, \"/com=SM_SestraRun.js\",  \"/new\", \"/batch\"]\n",
    "batch = True # set batch to false if you want to run Sesam Manager in interactive mode\n",
    "if batch:\n",
    "    command.append(\"/batch\")\n",
    "subprocess.run(command)\n",
    "repository_folder = os.path.join(dnv_working_directory, manager_example_name,\"_repository\")\n",
    "print(\"Sesam Workspace repository path: \" + repository_folder)\n",
    "print(\"Files produced from Sesam Manager workflow:\" + str(os.listdir(repository_folder)))\n",
    "os.chdir(\"..\")\n",
    "## Copy the SIN file created by Sestra above, to the current directory\n",
    "copied=shutil.copy(repository_folder + \"\\\\R1.SIN\", \".\")\n",
    "print(\"Copied:  \" + copied)"
   ]
  },
  {
   "cell_type": "markdown",
   "metadata": {},
   "source": [
    "### \n",
    "PS1: To get the correct RVNODDIS data, you must refer to Sesam results interface format documentation and see which IDs are needed to be referred (https://sesam.dnv.com/download/windows64/sesam_results_interface_format.pdf):\n",
    "<div>\n",
    "<img src=\"rvnoddis.png\" width=\"700\"/>\n",
    "</div>\n",
    "Here, by RVNODDIS data, I meant the values with index 1 to 11 below. Note that the number of data varies between data types so you have to look at the Sesam results interface format documentation and the SIF file for debugging.\n",
    "<div>\n",
    "<img src=\"r1sif.png\" width=\"700\"/>\n",
    "</div>\n",
    "\n",
    "\n",
    "\n",
    "\n",
    "\n",
    "If you want to loop through all the result cases and all the nodes, then you can either (1) loop manually through \"IRES\" and \"IINOD\" in Python, or (2) use ReadAll() method.\n",
    "\n",
    "\n",
    "PS2: I also attached "
   ]
  },
  {
   "cell_type": "markdown",
   "metadata": {},
   "source": [
    "If it ran successfully, you should get the following printouts (which should be the same as the values you will get in Xtract or GeniE result viewer). You must have installed Python and finished the SifIO setup."
   ]
  },
  {
   "cell_type": "code",
   "execution_count": null,
   "metadata": {},
   "outputs": [],
   "source": [
    "import subprocess,os,shutil\n",
    "sesam_manager_path = r\"C:\\Program Files (x86)\\DNV\\Sesam Manager V6.7-00\\Bin\\DNVS.Sesam.Manager.Win.exe\"\n",
    "dnv_working_directory = \"C:\\\\DNV\\\\Workspaces\\\\\"\n",
    "manager_example_name = \"SM_SestraRun\"\n",
    "os.chdir(\"SesamManagerExample\")\n",
    "command = [sesam_manager_path,  manager_example_name, \"/com=SM_SestraRun.js\",  \"/new\", \"/batch\"]\n",
    "batch = True # set batch to false if you want to run Sesam Manager in interactive mode\n",
    "if batch:\n",
    "    command.append(\"/batch\")\n",
    "subprocess.run(command)\n",
    "repository_folder = os.path.join(dnv_working_directory, manager_example_name,\"_repository\")\n",
    "print(\"Sesam Workspace repository path: \" + repository_folder)\n",
    "print(\"Files produced from Sesam Manager workflow:\" + str(os.listdir(repository_folder)))\n",
    "os.chdir(\"..\")"
   ]
  },
  {
   "cell_type": "code",
   "execution_count": null,
   "metadata": {},
   "outputs": [],
   "source": [
    "\n",
    "%run get_nodal_displacement_example.py"
   ]
  }
 ],
 "metadata": {
  "kernelspec": {
   "display_name": "Python 3",
   "language": "python",
   "name": "python3"
  },
  "language_info": {
   "codemirror_mode": {
    "name": "ipython",
    "version": 3
   },
   "file_extension": ".py",
   "mimetype": "text/x-python",
   "name": "python",
   "nbconvert_exporter": "python",
   "pygments_lexer": "ipython3",
   "version": "3.12.3"
  }
 },
 "nbformat": 4,
 "nbformat_minor": 2
}
